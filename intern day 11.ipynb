{
 "cells": [
  {
   "cell_type": "code",
   "execution_count": 1,
   "metadata": {},
   "outputs": [
    {
     "name": "stdout",
     "output_type": "stream",
     "text": [
      "OTP generation in the Mail class.\n",
      "OTP generation in the Phone class.\n",
      "OTP generation from both classes\n",
      "284\n",
      "108\n",
      "284108\n"
     ]
    }
   ],
   "source": [
    "import random\n",
    "class Mail():\n",
    "    str1 = \"\"\n",
    "    def __init__(self):\n",
    "        print(\"OTP generation in the Mail class.\")\n",
    "    def otp_1(self):\n",
    "            self.str1 = random.randint(100,999)\n",
    "            print(self.str1)\n",
    "            return str(self.str1)\n",
    "class Phone():\n",
    "    str2 = \"\"\n",
    "    def __init__(self):\n",
    "        print(\"OTP generation in the Phone class.\")\n",
    "    def otp_2(self):\n",
    "        self.str2 = random.randint(100,999)\n",
    "        print(self.str2)\n",
    "        return str(self.str2)\n",
    "class Otp(Mail, Phone):\n",
    "    str = \"\"\n",
    "    def __init__(self):\n",
    "        Mail.__init__(self)\n",
    "        Phone.__init__(self)\n",
    "        print(\"OTP generation from both classes\")\n",
    "    def otp(self):\n",
    "        self.str = Mail.otp_1(self) + Phone.otp_2(self)\n",
    "        return self.str\n",
    "object1 = Otp()\n",
    "print(object1.otp())"
   ]
  },
  {
   "cell_type": "code",
   "execution_count": null,
   "metadata": {},
   "outputs": [],
   "source": []
  }
 ],
 "metadata": {
  "kernelspec": {
   "display_name": "Python 3",
   "language": "python",
   "name": "python3"
  },
  "language_info": {
   "codemirror_mode": {
    "name": "ipython",
    "version": 3
   },
   "file_extension": ".py",
   "mimetype": "text/x-python",
   "name": "python",
   "nbconvert_exporter": "python",
   "pygments_lexer": "ipython3",
   "version": "3.7.3"
  }
 },
 "nbformat": 4,
 "nbformat_minor": 2
}
