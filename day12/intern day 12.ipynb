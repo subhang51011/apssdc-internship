{
 "cells": [
  {
   "cell_type": "code",
   "execution_count": 8,
   "metadata": {},
   "outputs": [
    {
     "name": "stdout",
     "output_type": "stream",
     "text": [
      "['Fourth line \\n', 'Fifth line \\n', 'Sixth line \\n', 'Seventh line \\n', 'Eight line \\n']\n"
     ]
    }
   ],
   "source": [
    "f=open(\"12text.txt\",\"w\")\n",
    "f.write(\"First line \\n\")\n",
    "f.write(\"Second line \\n\")\n",
    "f.write(\"Third line \\n\")\n",
    "f.write(\"Fourth line \\n\")\n",
    "f.write(\"Fifth line \\n\")\n",
    "f.write(\"Sixth line \\n\")\n",
    "f.write(\"Seventh line \\n\")\n",
    "f.write(\"Eight line \\n\")\n",
    "f.close()\n",
    "\n",
    "\n",
    "# Read last five lines in taskfile \n",
    "\n",
    "f1=open(\"12text.txt\",\"r\")\n",
    "list1=f1.readlines()\n",
    "print(list1[-5:])\n",
    "f1.close()"
   ]
  },
  {
   "cell_type": "code",
   "execution_count": 9,
   "metadata": {},
   "outputs": [],
   "source": [
    "# Program-2\n",
    "\n",
    "def write(file,string1):\n",
    "    with open(file,\"a\") as f:\n",
    "        f.write(string1)\n",
    "    return\n",
    "write(\"12text.txt\",\"Written through function in text file\")"
   ]
  },
  {
   "cell_type": "code",
   "execution_count": 10,
   "metadata": {},
   "outputs": [],
   "source": [
    "# Program-3\n",
    "import re \n",
    "def replace_name(file):\n",
    "    with open('12text.txt','r+') as f:\n",
    "        text = f.read()\n",
    "        text = re.sub('First', 'Last', text)\n",
    "        f.seek(0)\n",
    "        f.write(text)\n",
    "        f.truncate()\n",
    "    \n",
    "#reading the file\n",
    "f = replace_name(\"12text.txt\")"
   ]
  },
  {
   "cell_type": "code",
   "execution_count": null,
   "metadata": {},
   "outputs": [],
   "source": []
  }
 ],
 "metadata": {
  "kernelspec": {
   "display_name": "Python 3",
   "language": "python",
   "name": "python3"
  },
  "language_info": {
   "codemirror_mode": {
    "name": "ipython",
    "version": 3
   },
   "file_extension": ".py",
   "mimetype": "text/x-python",
   "name": "python",
   "nbconvert_exporter": "python",
   "pygments_lexer": "ipython3",
   "version": "3.7.3"
  }
 },
 "nbformat": 4,
 "nbformat_minor": 2
}
