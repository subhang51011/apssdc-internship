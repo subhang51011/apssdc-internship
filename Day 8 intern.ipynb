{
 "cells": [
  {
   "cell_type": "code",
   "execution_count": null,
   "metadata": {},
   "outputs": [],
   "source": [
    "# #Task\n",
    "# program to print 4 digit numbers from list\n",
    "# validate a phone number using patterns"
   ]
  },
  {
   "cell_type": "code",
   "execution_count": 1,
   "metadata": {},
   "outputs": [
    {
     "name": "stdout",
     "output_type": "stream",
     "text": [
      "2342\n",
      "1414\n",
      "9895\n",
      "8786\n"
     ]
    }
   ],
   "source": [
    "# Program to print 4 digit numbers from list\n",
    "\n",
    "import re\n",
    "\n",
    "list2=[12344,566789,2342,54543,656543,1414,98987,9895,8786,10005]\n",
    "\n",
    "for i in list2:\n",
    "    if re.findall('^[0-9]{4}$', str(i)):\n",
    "        print(i)"
   ]
  },
  {
   "cell_type": "code",
   "execution_count": 2,
   "metadata": {},
   "outputs": [
    {
     "name": "stdout",
     "output_type": "stream",
     "text": [
      "9010930682\n",
      "9019384737\n",
      "9087777249\n"
     ]
    }
   ],
   "source": [
    "# validate a phone number using patterns \n",
    "\n",
    "\n",
    "ph_list=[9010930682,9019384737,1234567892,5678912345,9087777249,94406263256,94406263226,91919191911,984811225587,91191108701]\n",
    "\n",
    "for i in ph_list:\n",
    "    if re.findall('[6-9]{1}[0-9]{9}$',str(i)):\n",
    "        print(i)"
   ]
  },
  {
   "cell_type": "code",
   "execution_count": null,
   "metadata": {},
   "outputs": [],
   "source": []
  }
 ],
 "metadata": {
  "kernelspec": {
   "display_name": "Python 3",
   "language": "python",
   "name": "python3"
  },
  "language_info": {
   "codemirror_mode": {
    "name": "ipython",
    "version": 3
   },
   "file_extension": ".py",
   "mimetype": "text/x-python",
   "name": "python",
   "nbconvert_exporter": "python",
   "pygments_lexer": "ipython3",
   "version": "3.7.3"
  }
 },
 "nbformat": 4,
 "nbformat_minor": 2
}
