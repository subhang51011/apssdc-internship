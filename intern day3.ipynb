{
 "cells": [
  {
   "cell_type": "code",
   "execution_count": null,
   "metadata": {},
   "outputs": [],
   "source": [
    "# TASK:\n",
    "\n",
    "# Take last 3 values of roll number If the value startswith \"01\" ---> \"Cse dept\" elif the value startswith \"11\" ---> \"It dept\" elif the value startswith \"21\" ---> \"Ece dept\" else not a student of Srm University\n",
    "# Find all leap years between 1800 to 2020"
   ]
  },
  {
   "cell_type": "code",
   "execution_count": 1,
   "metadata": {},
   "outputs": [
    {
     "name": "stdout",
     "output_type": "stream",
     "text": [
      "Enter Your Roll No: 15\n",
      "You are not an SRM student.\n"
     ]
    }
   ],
   "source": [
    "# Program 1\n",
    "\n",
    "str1=input(\"Enter Your Roll No: \")\n",
    "\n",
    "if str1[-3:].startswith(\"01\"):\n",
    "    print(\"You belong to CSE Dept.\")\n",
    "elif str1[-3:].startswith(\"11\"):\n",
    "    print(\"You belong to IT Dept.\")\n",
    "elif str1[-3:].startswith(\"21\"):\n",
    "    print(\"You belong to ECE Dept.\")\n",
    "else:\n",
    "    print(\"You are not an SRM student.\")"
   ]
  },
  {
   "cell_type": "code",
   "execution_count": 2,
   "metadata": {},
   "outputs": [
    {
     "name": "stdout",
     "output_type": "stream",
     "text": [
      "1804\t1808\t1812\t1816\t1820\t1824\t1828\t1832\t1836\t1840\t1844\t1848\t1852\t1856\t1860\t1864\t1868\t1872\t1876\t1880\t1884\t1888\t1892\t1896\t1904\t1908\t1912\t1916\t1920\t1924\t1928\t1932\t1936\t1940\t1944\t1948\t1952\t1956\t1960\t1964\t1968\t1972\t1976\t1980\t1984\t1988\t1992\t1996\t2000\t2004\t2008\t2012\t2016\t2020\t"
     ]
    }
   ],
   "source": [
    "# Program 2\n",
    "\n",
    "for i in range(1800,2021):\n",
    "    if (i % 4 == 0 and i % 100 != 0) or (i % 400 == 0):\n",
    "        print(i, end = '\\t')"
   ]
  },
  {
   "cell_type": "code",
   "execution_count": null,
   "metadata": {},
   "outputs": [],
   "source": []
  }
 ],
 "metadata": {
  "kernelspec": {
   "display_name": "Python 3",
   "language": "python",
   "name": "python3"
  },
  "language_info": {
   "codemirror_mode": {
    "name": "ipython",
    "version": 3
   },
   "file_extension": ".py",
   "mimetype": "text/x-python",
   "name": "python",
   "nbconvert_exporter": "python",
   "pygments_lexer": "ipython3",
   "version": "3.7.3"
  }
 },
 "nbformat": 4,
 "nbformat_minor": 2
}
