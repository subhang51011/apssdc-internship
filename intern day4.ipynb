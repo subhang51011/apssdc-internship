{
 "cells": [
  {
   "cell_type": "code",
   "execution_count": null,
   "metadata": {},
   "outputs": [],
   "source": [
    "# Task:\n",
    "\n",
    "# • take input from the user.\n",
    "\n",
    "# check the length of the string even or odd\n",
    "\n",
    "# . if the string length is odd access one middle character\n",
    "\n",
    "# . If the string length is even access two middle characters"
   ]
  },
  {
   "cell_type": "code",
   "execution_count": 1,
   "metadata": {},
   "outputs": [
    {
     "name": "stdout",
     "output_type": "stream",
     "text": [
      "Enter a string: subhang\n",
      "h\n"
     ]
    }
   ],
   "source": [
    "\n",
    "str1=input(\"Enter a string: \")\n",
    "\n",
    "size=len(str1)\n",
    "s1=size//2\n",
    "if size%2==0:\n",
    "    print(str1[s1-1:s1+1])\n",
    "    \n",
    "else:\n",
    "    print(str1[s1])"
   ]
  },
  {
   "cell_type": "code",
   "execution_count": null,
   "metadata": {},
   "outputs": [],
   "source": []
  }
 ],
 "metadata": {
  "kernelspec": {
   "display_name": "Python 3",
   "language": "python",
   "name": "python3"
  },
  "language_info": {
   "codemirror_mode": {
    "name": "ipython",
    "version": 3
   },
   "file_extension": ".py",
   "mimetype": "text/x-python",
   "name": "python",
   "nbconvert_exporter": "python",
   "pygments_lexer": "ipython3",
   "version": "3.7.3"
  }
 },
 "nbformat": 4,
 "nbformat_minor": 2
}
