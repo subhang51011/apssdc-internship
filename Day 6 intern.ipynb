{
 "cells": [
  {
   "cell_type": "code",
   "execution_count": null,
   "metadata": {},
   "outputs": [],
   "source": [
    "# TASK\n",
    "\n",
    "# Write a Python script to print a dictionary where the keys are numbers between 1 and 15 (both included) and the values are square of keys\n",
    "# Write a Python program to map two lists into a dictionary\n",
    "# Write a Python program to sort a list alphabetically in a dictionary\n",
    "# input : {'n1': [2, 3, 1], 'n2': [5, 1, 2], 'n3': [3, 2, 4]}\n",
    "# output : {'n1': [1, 2, 3], 'n2': [1, 2, 5], 'n3': [2, 3, 4]}"
   ]
  },
  {
   "cell_type": "code",
   "execution_count": 1,
   "metadata": {},
   "outputs": [
    {
     "name": "stdout",
     "output_type": "stream",
     "text": [
      "{1: 1, 2: 4, 3: 9, 4: 16, 5: 25, 6: 36, 7: 49, 8: 64, 9: 81, 10: 100, 11: 121, 12: 144, 13: 169, 14: 196, 15: 225}\n"
     ]
    }
   ],
   "source": [
    "#Program-1\n",
    "\n",
    "dict1={}\n",
    "for i in range(1,16):\n",
    "    dict1[i]=i**2\n",
    "print(dict1)"
   ]
  },
  {
   "cell_type": "code",
   "execution_count": 2,
   "metadata": {},
   "outputs": [
    {
     "name": "stdout",
     "output_type": "stream",
     "text": [
      "{'player-1': 'Virat', 'Player-2': 'Dhoni', 'Player-3': 'Sachin', 'Player-4': 'rahul', 'Player-5': 'kiran'}\n"
     ]
    }
   ],
   "source": [
    "#Program-2\n",
    "\n",
    "list1=[\"player-1\",\"Player-2\",\"Player-3\",\"Player-4\",\"Player-5\"]\n",
    "list2=[\"Virat\",\"Dhoni\",\"Sachin\",\"rahul\",\"kiran\"]\n",
    "\n",
    "dict2=dict(zip(list1,list2))\n",
    "\n",
    "print(dict2)"
   ]
  },
  {
   "cell_type": "code",
   "execution_count": 3,
   "metadata": {},
   "outputs": [
    {
     "name": "stdout",
     "output_type": "stream",
     "text": [
      "{'l1': [1, 2, 5], 'l2': [2, 8, 9], 'l3': [3, 5, 6]}\n"
     ]
    }
   ],
   "source": [
    "#Program-3\n",
    "\n",
    "dict3={\"l1\":[1,5,2],\"l2\":[2,9,8],\"l3\":[6,3,5]}\n",
    "\n",
    "for i in dict3.values():\n",
    "    i.sort()\n",
    "\n",
    "print(dict3)"
   ]
  },
  {
   "cell_type": "code",
   "execution_count": null,
   "metadata": {},
   "outputs": [],
   "source": []
  }
 ],
 "metadata": {
  "kernelspec": {
   "display_name": "Python 3",
   "language": "python",
   "name": "python3"
  },
  "language_info": {
   "codemirror_mode": {
    "name": "ipython",
    "version": 3
   },
   "file_extension": ".py",
   "mimetype": "text/x-python",
   "name": "python",
   "nbconvert_exporter": "python",
   "pygments_lexer": "ipython3",
   "version": "3.7.3"
  }
 },
 "nbformat": 4,
 "nbformat_minor": 2
}
