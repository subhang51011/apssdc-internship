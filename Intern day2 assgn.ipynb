{
 "cells": [
  {
   "cell_type": "code",
   "execution_count": 1,
   "metadata": {},
   "outputs": [],
   "source": [
    "# Task:Write a program to check wheather the user eligible for vote or not\n",
    "# Check the given number is positive or negative\n",
    "# check the given number is even or odd if it's even check which is divisible by 4 or not\n",
    "# write a program to print student grade based on persentage like Distinction,pass or fail\n",
    "# Check the given year is Leap or not"
   ]
  },
  {
   "cell_type": "code",
   "execution_count": 2,
   "metadata": {},
   "outputs": [
    {
     "name": "stdout",
     "output_type": "stream",
     "text": [
      "Enter Your age: 17\n",
      "Sorry, You are not eligible to vote....\n"
     ]
    }
   ],
   "source": [
    "# Program 1\n",
    "\n",
    "age=int(input(\"Enter Your age: \"))\n",
    "\n",
    "if(age>=18):\n",
    "    print(\"You are eligible to vote...\")\n",
    "else:\n",
    "    print(\"Sorry, You are not eligible to vote....\")"
   ]
  },
  {
   "cell_type": "code",
   "execution_count": 3,
   "metadata": {},
   "outputs": [
    {
     "name": "stdout",
     "output_type": "stream",
     "text": [
      "Enter any number: 66\n",
      "Given number '66' is positive...\n"
     ]
    }
   ],
   "source": [
    "# Program 2\n",
    "\n",
    "num=int(input(\"Enter any number: \"))\n",
    "\n",
    "if num>0:\n",
    "    print(\"Given number '{}' is positive...\".format(num))\n",
    "elif num==0:\n",
    "    print(\"The given number is equal to zero.\")\n",
    "else:\n",
    "    print(\"Given number '{}' is negative..\".format(num))\n",
    "    "
   ]
  },
  {
   "cell_type": "code",
   "execution_count": 4,
   "metadata": {},
   "outputs": [
    {
     "name": "stdout",
     "output_type": "stream",
     "text": [
      "Enter any number: 34\n",
      "the given number '34' is even and not divisble by 4..\n"
     ]
    }
   ],
   "source": [
    "# Program 3\n",
    "\n",
    "num2=int(input(\"Enter any number: \"))\n",
    "if(num2%2==0):\n",
    "    if(num2%4==0):\n",
    "        print(\"the given number '{}' is even and divisible by 4..\".format(num2))\n",
    "    else:\n",
    "        print(\"the given number '{}' is even and not divisble by 4..\".format(num2))\n",
    "else:\n",
    "    print(\"the given number '{}' is odd..\".format(num2))"
   ]
  },
  {
   "cell_type": "code",
   "execution_count": 5,
   "metadata": {},
   "outputs": [
    {
     "name": "stdout",
     "output_type": "stream",
     "text": [
      "Enter Number of Subjects: 6\n",
      "Enter Marks of subject 1: 21\n",
      "Enter Marks of subject 2: 23\n",
      "Enter Marks of subject 3: 24\n",
      "Enter Marks of subject 4: 20\n",
      "Enter Marks of subject 5: 19\n",
      "Enter Marks of subject 6: 12\n",
      "19.833333333333332\n",
      "You Failed.\n"
     ]
    }
   ],
   "source": [
    "# Program 4\n",
    "\n",
    "subjects=int(input(\"Enter Number of Subjects: \"))\n",
    "sum1=0\n",
    "\n",
    "for i in range(subjects):\n",
    "    s=int(input(\"Enter Marks of subject {}: \".format(i+1)))\n",
    "    sum1=sum1+s\n",
    "\n",
    "per=(sum1/(subjects*100))*100\n",
    "print(per)\n",
    "\n",
    "if per>90.0:\n",
    "    print(\"Hurray..You passed with Distinction\")\n",
    "elif per>80.0 and per<90.0:\n",
    "    print(\"You passed with 'B' Grade.\")\n",
    "elif per>70.0 and per<80.0:\n",
    "    print(\"You passed with 'C' Grade.\")\n",
    "elif per>60.0 and per<70.0:\n",
    "    print(\"You passed with 'D' Grade.\")\n",
    "elif per>45.0 and per<60.0:\n",
    "    print(\"You just passed with 'E' Grade.\")\n",
    "else:\n",
    "    print(\"You Failed.\")"
   ]
  },
  {
   "cell_type": "code",
   "execution_count": 6,
   "metadata": {},
   "outputs": [
    {
     "name": "stdout",
     "output_type": "stream",
     "text": [
      "Enter year: 2040\n",
      "The given year is a leap year\n"
     ]
    }
   ],
   "source": [
    "# Program 5\n",
    "\n",
    "year=int(input(\"Enter year: \"))\n",
    "\n",
    "if year%4==0:\n",
    "    if year%100==0:\n",
    "        if year%400==0:\n",
    "            print(\"The given year is a leap year.\")\n",
    "        else:\n",
    "            print(\"The given year is not a leap year.\")\n",
    "    else:\n",
    "        print(\"The given year is a leap year\")\n",
    "else:\n",
    "    print(\"The given year is not a leap year.\")"
   ]
  },
  {
   "cell_type": "code",
   "execution_count": null,
   "metadata": {},
   "outputs": [],
   "source": []
  },
  {
   "cell_type": "code",
   "execution_count": null,
   "metadata": {},
   "outputs": [],
   "source": []
  }
 ],
 "metadata": {
  "kernelspec": {
   "display_name": "Python 3",
   "language": "python",
   "name": "python3"
  },
  "language_info": {
   "codemirror_mode": {
    "name": "ipython",
    "version": 3
   },
   "file_extension": ".py",
   "mimetype": "text/x-python",
   "name": "python",
   "nbconvert_exporter": "python",
   "pygments_lexer": "ipython3",
   "version": "3.7.3"
  }
 },
 "nbformat": 4,
 "nbformat_minor": 2
}
