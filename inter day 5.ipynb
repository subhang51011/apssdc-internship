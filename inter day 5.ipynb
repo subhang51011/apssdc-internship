{
 "cells": [
  {
   "cell_type": "code",
   "execution_count": null,
   "metadata": {},
   "outputs": [],
   "source": [
    "#Program that takes two lists and and returns true if they have element in common"
   ]
  },
  {
   "cell_type": "code",
   "execution_count": 1,
   "metadata": {},
   "outputs": [
    {
     "name": "stdout",
     "output_type": "stream",
     "text": [
      "Enter Size of list1: 3\n",
      "Enter Size of list2: 4\n",
      "Enter list-1 element: 2\n",
      "Enter list-1 element: 3\n",
      "Enter list-1 element: 4\n",
      "Enter list-2 element: 5\n",
      "Enter list-2 element: 6\n",
      "Enter list-2 element: 7\n",
      "Enter list-2 element: 8\n",
      "[2, 3, 4]\n",
      "[5, 6, 7, 8]\n",
      "False\n"
     ]
    }
   ],
   "source": [
    "n=int(input(\"Enter Size of list1: \"))\n",
    "m=int(input(\"Enter Size of list2: \"))\n",
    "\n",
    "list1=[]\n",
    "list2=[]\n",
    "\n",
    "for i in range(0,n):\n",
    "    x=int(input(\"Enter list-1 element: \"))\n",
    "    list1.append(x)\n",
    "for i in range(0,m):\n",
    "    x=int(input(\"Enter list-2 element: \"))\n",
    "    list2.append(x)\n",
    "\n",
    "result=False\n",
    "\n",
    "for x in list1:\n",
    "    for y in list2:\n",
    "        if x==y:\n",
    "            result=True\n",
    "\n",
    "            \n",
    "print(list1)\n",
    "print(list2)\n",
    "\n",
    "if result:\n",
    "    print(\"True\")\n",
    "else:\n",
    "    print(\"False\")"
   ]
  },
  {
   "cell_type": "code",
   "execution_count": null,
   "metadata": {},
   "outputs": [],
   "source": []
  }
 ],
 "metadata": {
  "kernelspec": {
   "display_name": "Python 3",
   "language": "python",
   "name": "python3"
  },
  "language_info": {
   "codemirror_mode": {
    "name": "ipython",
    "version": 3
   },
   "file_extension": ".py",
   "mimetype": "text/x-python",
   "name": "python",
   "nbconvert_exporter": "python",
   "pygments_lexer": "ipython3",
   "version": "3.7.3"
  }
 },
 "nbformat": 4,
 "nbformat_minor": 2
}
